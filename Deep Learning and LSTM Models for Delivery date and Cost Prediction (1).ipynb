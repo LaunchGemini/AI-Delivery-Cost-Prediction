{
 "cells": [
  {
   "cell_type": "markdown",
   "metadata": {},
   "source": [
    "# Deep Learning and LSTM for Supply Chain\n",
    "\n",
    "###  1) Deep Learning based delivery date prediction \n",
    "\n",
    "###  2) LSTM based Freight cost prediction"
   ]
  },
  {
   "cell_type": "markdown",
   "metadata": {},
   "source": [
    "**Description:**\n",
    "\n",
    "The objective of the project is to obtain the prediction of delivery date and freight cost based on the historic trend and attributes.The notebook showcases the exploratory data analysis and Deep learning model for delivery date prediction as well as LSTM model for freight cost prediction.\n",
    "\n",
    "The supply chain shipment data is available free of charge at the following links  https://www.ncdc.noaa.gov/cdo-web and https://www.usaid.gov/opengov/developer/datasets/SCMS_Delivery_History_Dataset_20150929.csv.\n",
    "\n",
    "**Methodology:**\n",
    "1. Loading required libraries\n",
    "2. Data loading\n",
    "3. Feature engineering and Exploratory Data analysis\n",
    "4. Deep Learning Model for Delivery Date Prediction\n",
    "5. LSTM based Freight Cost Prediction\n",
    "6. Result Discussion\n",
    "\n",
    "**Requirements:** This project requires **Python 3.6** and the following Python libraries installed:\n",
    "\n",
    "- [NumPy](http://www.numpy.org/)\n",
    "- [Pandas](http://pandas.pydata.org)\n",
    "- [matplotlib](http://matplotlib.org/)\n",
    "- [Seaborn](https://seaborn.pydata.org/)\n",
    "- [XGBoost](https://github.com/dmlc/xgboost)\n",
    "- [scikit-learn](http://scikit-learn.org/stable/)\n",
    "- [DateTime](https://docs.python.org/2/library/datetime.html)\n",
    "- [Keras](https://keras.io/)\n",
    "- [TensorFlow](https://www.tensorflow.org/)\n",
    "\n",
    "You will also need to have software installed to run and execute a [Jupyter Notebook](http://ipython.org/notebook.html)\n",
    "\n",
    "If you do not have Python installed yet, it is highly recommended that you install the [Anaconda](http://continuum.io/downloads) distribution of Python, which already has the above packages and more included. \n",
    "\n"
   ]
  },
  {
   "cell_type": "code",
   "execution_count": 1,
   "metadata": {},
   "outputs": [],
   "source": [
    "import pandas as pd\n",
    "import numpy as np \n",
    "import matplotlib.pyplot as plt\n",
    "import os\n",
    "import sklearn\n",
    "import datetime\n",
    "import seaborn as sns\n",
    "%matplotlib inline"
   ]
  },
  {
   "cell_type": "code",
   "execution_count": 2,
   "metadata": {},
   "outputs": [],
   "source": [
    "import tensorflow as tf"
   ]
  },
  {
   "cell_type": "markdown",
   "metadata": {},
   "source": [
    "## Data Read into dataframe df"
   ]
  },
  {
   "cell_type": "code",
   "execution_count": 3,
   "metadata": {},
   "outputs": [],
   "source": [
    "def read_csv(filepath):\n",
    "     if os.path.splitext(filepath)[1] != '.csv':\n",
    "          return  # or whatever\n",
    "     seps = [',', ';', '\\t']                    # ',' is default\n",
    "     encodings = [None, 'utf-8', 'ISO-8859-1']  # None is default\n",
    "     for sep in seps:\n",
    "         for encoding in encodings:\n",
    "              try:\n",
    "                  return pd.read_csv(filepath, encoding=encoding, sep=sep)\n",
    "              except Exception:  # should really be more specific \n",
    "                  pass\n",
    "     raise ValueError(\"{!r} is has no encoding in {} or seperator in {}\"\n",
    "                      .format(filepath, encodings, seps))"
   ]
  },
  {
   "cell_type": "code",
   "execution_count": 4,
   "metadata": {},
   "outputs": [],
   "source": [
    "df = read_csv('C:/Users/vasu.kumar/SCMS_Delivery_History_Dataset.csv')"
   ]
  },
  {
   "cell_type": "markdown",
   "metadata": {},
   "source": [
    "## Exploratory Data Analysis"
   ]
  },
  {
   "cell_type": "code",
   "execution_count": 5,
   "metadata": {
    "scrolled": true
   },
   "outputs": [
    {
     "name": "stdout",
     "output_type": "stream",
     "text": [
      "<class 'pandas.core.frame.DataFrame'>\n",
      "RangeIndex: 10324 entries, 0 to 10323\n",
      "Data columns (total 33 columns):\n",
      "ID                              10324 non-null int64\n",
      "Project Code                    10324 non-null object\n",
      "PQ #                            10324 non-null object\n",
      "PO / SO #                       10324 non-null object\n",
      "ASN/DN #                        10324 non-null object\n",
      "Country                         10324 non-null object\n",
      "Managed By                      10324 non-null object\n",
      "Fulfill Via                     10324 non-null object\n",
      "Vendor INCO Term                10324 non-null object\n",
      "Shipment Mode                   9964 non-null object\n",
      "PQ First Sent to Client Date    10324 non-null object\n",
      "PO Sent to Vendor Date          10324 non-null object\n",
      "Scheduled Delivery Date         10324 non-null object\n",
      "Delivered to Client Date        10324 non-null object\n",
      "Delivery Recorded Date          10324 non-null object\n",
      "Product Group                   10324 non-null object\n",
      "Sub Classification              10324 non-null object\n",
      "Vendor                          10324 non-null object\n",
      "Item Description                10324 non-null object\n",
      "Molecule/Test Type              10324 non-null object\n",
      "Brand                           10324 non-null object\n",
      "Dosage                          8588 non-null object\n",
      "Dosage Form                     10324 non-null object\n",
      "Unit of Measure (Per Pack)      10324 non-null int64\n",
      "Line Item Quantity              10324 non-null int64\n",
      "Line Item Value                 10324 non-null float64\n",
      "Pack Price                      10324 non-null float64\n",
      "Unit Price                      10324 non-null float64\n",
      "Manufacturing Site              10324 non-null object\n",
      "First Line Designation          10324 non-null object\n",
      "Weight (Kilograms)              10324 non-null object\n",
      "Freight Cost (USD)              10324 non-null object\n",
      "Line Item Insurance (USD)       10037 non-null float64\n",
      "dtypes: float64(4), int64(3), object(26)\n",
      "memory usage: 2.6+ MB\n"
     ]
    }
   ],
   "source": [
    "df.info()"
   ]
  },
  {
   "cell_type": "code",
   "execution_count": 6,
   "metadata": {
    "scrolled": true
   },
   "outputs": [
    {
     "data": {
      "text/plain": [
       "ID                                int64\n",
       "Project Code                     object\n",
       "PQ #                             object\n",
       "PO / SO #                        object\n",
       "ASN/DN #                         object\n",
       "Country                          object\n",
       "Managed By                       object\n",
       "Fulfill Via                      object\n",
       "Vendor INCO Term                 object\n",
       "Shipment Mode                    object\n",
       "PQ First Sent to Client Date     object\n",
       "PO Sent to Vendor Date           object\n",
       "Scheduled Delivery Date          object\n",
       "Delivered to Client Date         object\n",
       "Delivery Recorded Date           object\n",
       "Product Group                    object\n",
       "Sub Classification               object\n",
       "Vendor                           object\n",
       "Item Description                 object\n",
       "Molecule/Test Type               object\n",
       "Brand                            object\n",
       "Dosage                           object\n",
       "Dosage Form                      object\n",
       "Unit of Measure (Per Pack)        int64\n",
       "Line Item Quantity                int64\n",
       "Line Item Value                 float64\n",
       "Pack Price                      float64\n",
       "Unit Price                      float64\n",
       "Manufacturing Site               object\n",
       "First Line Designation           object\