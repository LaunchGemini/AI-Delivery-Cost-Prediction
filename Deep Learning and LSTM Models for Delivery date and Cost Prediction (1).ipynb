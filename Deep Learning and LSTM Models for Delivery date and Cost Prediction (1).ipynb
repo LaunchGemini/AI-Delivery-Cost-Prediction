{
 "cells": [
  {
   "cell_type": "markdown",
   "metadata": {},
   "source": [
    "# Deep Learning and LSTM for Supply Chain\n",
    "\n",
    "###  1) Deep Learning based delivery date prediction \n",
    "\n",
    "###  2) LSTM based Freight cost prediction"
   ]
  },
  {
   "cell_type": "markdown",
   "metadata": {},
   "source": [
    "**Description:**\n",
    "\n",
    "The objective of the project is to obtain the prediction of delivery date and freight cost based on the historic trend and attributes.The notebook showcases the exploratory data analysis and Deep learning model for delivery date prediction as well as LSTM model for freight cost prediction.\n",
    "\n",
    "The supply chain shipment data is available free of charge at the following links  https://www.ncdc.noaa.gov/cdo-web and https://www.usaid.gov/opengov/developer/datasets/SCMS_Delivery_History_Dataset_20150929.csv.\n",
    "\n",
    "**Methodology:**\n",
    "1. Loading required libraries\n",
    "2. Data loading\n",
    "3. Feature engineering and Exploratory Data analysis\n",
    "4. Deep Learning Model for Delivery Date Prediction\n",
    "5. LSTM based Freight Cost Prediction\n",
    "6. Result Discussion\n",
    "\n",
    "**Requirements:** This project requires **Python 3.6** and the following Python libraries installed:\n",
    "\n",
    "- [NumPy](http://www.numpy.org/)\n",
    "- [Pandas](http://pandas.pydata.org)\n",
    "- [matplotlib](http://matplotlib.org/)\n",
    "- [Seaborn](https://seaborn.pydata.org/)\n",
    "- [XGBoost](https://github.com/dmlc/xgboost)\n",
    "- [scikit-learn](http://scikit-learn.org/stable/)\n",
    "- [DateTime](https://docs.python.org/2/library/datetime.html)\n",
    "- [Keras](https://keras.io/)\n",
    "- [TensorFlow](https://www.tensorflow.org/)\n",
    "\n",
    "You will also need to have software installed to run and execute a [Jupyter Notebook](http://ipython.org/notebook.html)\n",
    "\n",
    "If you do not have Python installed yet, it is highly recommended that you install the [Anaconda](http://continuum.io/downloads) distribution of Python, which already has the above packages and more included. \n",
    "\n"
   ]
  },
  {
   "cell_type": "code",
   "execution_count": 1,
   "metadata": {},
   "outputs": [],
   "source": [
    "import pandas as pd\n",
    "import numpy as np \n",
    "import matplotlib.pyplot as plt\n",
    "import os\n",
    "import sklearn\n",
    "import datetime\n",
    "import seaborn as sns\n",
    "%matplotlib inline"
   ]
  },
  {
   "cell_type": "code",
   "execution_count": 2,
   "metadata": {},
   "outputs": [],
   "source": [
    "import tensorflow as tf"
   ]
  },
  {
   "cell_type": "markdown",
   "metadata": {},
   "source": [
    "## Data Read into dataframe df"
   ]
  },
  {
   "cell_type": "code",
   "execution_count": 3,
   "metadata": {},
   "outputs": [],
   "source": [
    "def read_csv(filepath):\n",
    "     if os.path.splitext(filepath)[1] != '.csv':\n",
    "          return  # or whatever\n",
    "     seps = [',', ';', '\\t']                    # ',' is default\n",
    "     encodings = [None, 'utf-8', 'ISO-8859-1']  # None is default\n",
    "     for sep in seps:\n",
    "         for encoding in encodings:\n",
    "              try:\n",
    "                  return pd.read_csv(filepath, encoding=encoding, sep=sep)\n",
    "              except Exception:  # should really be more specific \n",
    "                  pass\n",
    "     raise ValueError(\"{!r} is has no encoding in {} or seperator in {}\"\n",
    "                      .format(filepath, encodings, seps))"
   ]
  },
  {
   "cell_type": "code",
   "execution_count": 4,
   "metadata": {},
   "outputs": [],
   "source": [
    "df = read_csv('C:/Users/vasu.kumar/SCMS_Delivery_History_Dataset.csv')"
   ]
  },
  {
   "cell_type": "markdown",
   "metadata": {},
   "source": [
    "## Exploratory Data Analysis"
   ]
  },
  {
   "cell_type": "code",
   "execution_count": 5,
   "metadata": {
    "scrolled": true
   },
   "outputs": [
    {
     "name": "stdout",
     "output_type": "stream",
     "text": [
      "<class 'pandas.core.frame.DataFrame'>\n",
      "RangeIndex: 10324 entries, 0 to 10323\n",
      "Data columns (total 33 columns):\n",
      "ID                              10324 non-null int64\n",
      "Project Code                    10324 non-null object\n",
      "PQ #                            10324 non-null object\n",
      "PO / SO #                       10324 non-null object\n",
      "ASN/DN #                        10324 non-null object\n",
      "Country                         10324 non-null object\n",
      "Managed By                      10324 non-null object\n",
      "Fulfill Via                     10324 non-null object\n",
      "Vendor INCO Term                10324 non-null object\n",
      "Shipment Mode                   9964 non-null object\n",
      "PQ First Sent to Client Date    10324 non-null object\n",
      "PO Sent to Vendor Date          10324 non-null object\n",
      "Scheduled Delivery Date         10324 non-null object\n",
      "Delivered to Client Date        10324 non-null object\n",
      "Delivery Recorded Date          10324 non-null object\n",
      "Product Group                   10324 non-null object\n",
      "Sub Classification              10324 non-null object\n",
      "Vendor                          10324 non-null object\n",
      "Item Description                10324 non-null object\n",
      "Molecule/Test Type              10324 non-null object\n",
      "Brand                           10324 non-null object\n",
      "Dosage                          8588 non-null object\n",
      "Dosage Form                     10324 non-null object\n",
      "Unit of Measure (Per Pack)      10324 non-null int64\n",
      "Line Item Quantity              10324 non-null int64\n",
      "Line Item Value                 10324 non-null float64\n",
      "Pack Price                      10324 non-null float64\n",
      "Unit Price                      10324 non-null float64\n",
      "Manufacturing Site              10324 non-null object\n",
      "First Line Designation          10324 non-null object\n",
      "Weight (Kilograms)              10324 non-null object\n",
      "Freight Cost (USD)              10324 non-null object\n",
      "Line Item Insurance (USD)       10037 non-null float64\n",
      "dtypes: float64(4), int64(3), object(26)\n",
      "memory usage: 2.6+ MB\n"
     ]
    }
   ],
   "source": [
    "df.info()"
   ]
  },
  {
   "cell_type": "code",
   "execution_count": 6,
   "metadata": {
    "scrolled": true
   },
   "outputs": [
    {
     "data": {
      "text/plain": [
       "ID                                int64\n",
       "Project Code                     object\n",
       "PQ #                             object\n",
       "PO / SO #                        object\n",
       "ASN/DN #                         object\n",
       "Country                          object\n",
       "Managed By                       object\n",
       "Fulfill Via                      object\n",
       "Vendor INCO Term                 object\n",
       "Shipment Mode                    object\n",
       "PQ First Sent to Client Date     object\n",
       "PO Sent to Vendor Date           object\n",
       "Scheduled Delivery Date          object\n",
       "Delivered to Client Date         object\n",
       "Delivery Recorded Date           object\n",
       "Product Group                    object\n",
       "Sub Classification               object\n",
       "Vendor                           object\n",
       "Item Description                 object\n",
       "Molecule/Test Type               object\n",
       "Brand                            object\n",
       "Dosage                           object\n",
       "Dosage Form                      object\n",
       "Unit of Measure (Per Pack)        int64\n",
       "Line Item Quantity                int64\n",
       "Line Item Value                 float64\n",
       "Pack Price                      float64\n",
       "Unit Price                      float64\n",
       "Manufacturing Site               object\n",
       "First Line Designation           object\n",
       "Weight (Kilograms)               object\n",
       "Freight Cost (USD)               object\n",
       "Line Item Insurance (USD)       float64\n",
       "dtype: object"
      ]
     },
     "execution_count": 6,
     "metadata": {},
     "output_type": "execute_result"
    }
   ],
   "source": [
    "df.dtypes"
   ]
  },
  {
   "cell_type": "code",
   "execution_count": 7,
   "metadata": {
    "scrolled": true
   },
   "outputs": [
    {
     "data": {
      "text/plain": [
       "<matplotlib.axes._subplots.AxesSubplot at 0x1e0943cbb70>"
      ]
     },
     "execution_count": 7,
     "metadata": {},
     "output_type": "execute_result"
    },
    {
     "data": {
      "image/png": "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