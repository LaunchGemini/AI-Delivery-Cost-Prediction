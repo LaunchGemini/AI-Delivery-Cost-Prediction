{
 "cells": [
  {
   "cell_type": "markdown",
   "metadata": {},
   "source": [
    "# Deep Learning and LSTM for Supply Chain\n",
    "\n",
    "###  1) Deep Learning based delivery date prediction \n",
    "\n",
    "###  2) LSTM based Freight cost prediction"
   ]
  },
  {
   "cell_type": "markdown",
   "metadata": {},
   "source": [
    "**Description:**\n",
    "\n",
    "The objective of the project is to obtain the prediction of delivery date and freight cost based on the historic trend and attributes.The notebook showcases the exploratory data analysis and Deep learning model for delivery date prediction as well as LSTM model for freight cost prediction.\n",
    "\n",
    "The supply chain shipment data is available free of charge at the following links  https://www.ncdc.noaa.gov/cdo-web and https://www.usaid.gov/opengov/developer/datasets/SCMS_Delivery_History_Dataset_20150929.csv.\n",
    "\n",
    "**Methodology:**\n",
    "1. Loading required libraries\n",
    "2. Data loading\n",
    "3. Feature engineering and Exploratory Data analysis\n",
    "4. Deep Learning Model for Delivery Date Prediction\n",
    "5. LSTM based Freight Cost Prediction\n",
    "6. Result Discussion\n",
    "\n",
    "**Requirements:** This project requires **Python 3.6** and the following Python libraries installed:\n",
    "\n",
    "- [NumPy](http://www.numpy.org/)\n",
    "- [Pandas](http://pandas.pydata.org)\n",
    "- [matplotlib](http://matplotlib.org/)\n",
    "- [Seaborn](https://seaborn.pydata.org/)\n",
    "- [XGBoost](https://github.com/dmlc/xgboost)\n",
    "- [scikit-learn](http://scikit-learn.org/stable/)\n",
    "- [DateTime](https://docs.python.org/2/library/datetime.html)\n",
    "- [Keras](https://keras.io/)\n",
    "- [TensorFlow](https://www.tensorflow.org/)\n",
    "\n",
    "You will also need to have software installed to run and execute a [Jupyter Notebook](http://ipython.org/notebook.html)\n",
    "\n",
    "If you do not have Python installed yet, it is highly recommended that you install the [Anaconda](http://continuum.io/downloads) distribution of Python, which already has the above packages and more included. \n",
    "\n"
   ]
  },
  {
   "cell_type": "code",
   "execution_count": 1,
   "metadata": {},
   "outputs": [],
   "source": [
    "import pandas as pd\n",
    "import numpy as np \n",
    "import matplotlib.pyplot as plt\n",
    "import os\n",
    "import sklearn\n",
    "import datetime\n",
    "import seaborn as sns\n",
    "%matplotlib inline"
   ]
  },
  {
   "cell_type": "code",
   "execution_count": 2,
   "metadata": {},
   "outputs": [],
   "source": [
    "import tensorflow as tf"
   ]
  },
  {
   "cell_type": "markdown",
   "metadata": {},
   "source": [
    "## Data Read into dataframe df"
   ]
  },
  {
   "cell_type": "code",
   "execution_count": 3,
   "metadata": {},
   "outputs": [],
   "source": [
    "def read_csv(filepath):\n",
    "     if os.path.splitext(filepath)[1] != '.csv':\n",
    "          return  # or whatever\n",
    "     seps = [',', ';', '\\t']                    # ',' is default\n",
    "     encodings = [None, 'utf-8', 'ISO-8859-1']  # None is default\n",
    "     for sep in seps:\n",
    "         for encoding in encodings:\n",
    "              try:\n",
    "                  return pd.read_csv(filepath, encoding=encoding, sep=sep)\n",
    "              except Exception:  # should really be more specific \n",
    "                  pass\n",
    "     raise ValueError(\"{!r} is has no encoding in {} or seperator in {}\"\n",
    "                      .format(filepath, encodings, seps))"
   ]
  },
  {
   "cell_type": "code",
   "execution_count": 4,
   "metadata": {},
   "outputs": [],
   "source": [
    "df = read_csv('C:/Users/vasu.kumar/SCMS_Delivery_History_Dataset.csv')"
   ]
  },
  {
   "cell_type": "markdown",
   "metadata": {},
   "source": [
    "## Exploratory Data Analysis"
   ]
  },
  {
   "cell_type": "code",
   "execution_count": 5,
   "metadata": {
    "scrolled": true
   },
   "outputs": [
    {
     "name": "stdout",
     "output_type": "stream",
     "text": [
      "<class 'pandas.core.frame.DataFrame'>\n",
      "RangeIndex: 10324 entries, 0 to 10323\n",
      "Data columns (total 33 columns):\n",
      "ID                              10324 non-null int64\n",
      "Project Code                    10324 non-null object\n",
      "PQ #                            10324 non-null object\n",
      "PO / SO #                       10324 non-null object\n",
      "ASN/DN #                        10324 non-null object\n",
      "Country                         10324 non-null object\n",
      "Managed By                      10324 non-null object\n",
      "Fulfill Via                     10324 non-null object\n",
      "Vendor INCO Term                10324 non-null object\n",
      "Shipment Mode                   9964 non-null object\n",
      "PQ First Sent to Client Date    10324 non-null object\n",
      "PO Sent to Vendor Date          10324 non-null object\n",
      "Scheduled Delivery Date         10324 non-null object\n",
      "Delivered to Client Date        10324 non-null object\n",
      "Delivery Recorded Date          10324 non-null object\n",
      "Product Group                   10324 non-null object\n",
      "Sub Classification              10324 non-null object\n",
      "Vendor                          10324 non-null object\n",
      "Item Description                10324 non-null object\n",
      "Molecule/Test Type              10324 non-null object\n",
      "Brand                           10324 non-null object\n",
      "Dosage                          8588 non-null object\n",
      "Dosage Form                     10324 non-null object\n",
      "Unit of Measure (Per Pack)      10324 non-null int64\n",
      "Line Item Quantity              10324 non-null int64\n",
      "Line Item Value                 10324 non-null float64\n",
      "Pack Price                      10324 non-null float64\n",
      "Unit Price                      10324 non-null float64\n",
      "Manufacturing Site              10324 non-null object\n",
      "First Line Designation          10324 non-null object\n",
      "Weight (Kilograms)              10324 non-null object\n",
      "Freight Cost (USD)              10324 non-null object\n",
      "Line Item Insurance (USD)       10037 non-null float64\n",
      "dtypes: float64(4), int64(3), object(26)\n",
      "memory usage: 2.6+ MB\n"
     ]
    }
   ],
   "source": [
    "df.info()"
   ]
  },
  {
   "cell_type": "code",
   "execution_count": 6,
   "metadata": {
    "scrolled": true
   },
   "outputs": [
    {
     "data": {
      "text/plain": [
       "ID                                int64\n",
       "Project Code                     object\n",
       "PQ #                             object\n",
       "PO / SO #                        object\n",
       "ASN/DN #                         object\n",
       "Country                          object\n",
       "Managed By                       object\n",
       "Fulfill Via                      object\n",
       "Vendor INCO Term                 object\n",
       "Shipment Mode                    object\n",
       "PQ First Sent to Client Date     object\n",
       "PO Sent to Vendor Date           object\n",
       "Scheduled Delivery Date          object\n",
       "Delivered to Client Date         object\n",
       "Delivery Recorded Date           object\n",
       "Product Group                    object\n",
       "Sub Classification               object\n",
       "Vendor                           object\n",
       "Item Description                 object\n",
       "Molecule/Test Type               object\n",
       "Brand                            object\n",
       "Dosage                           object\n",
       "Dosage Form                      object\n",
       "Unit of Measure (Per Pack)        int64\n",
       "Line Item Quantity                int64\n",
       "Line Item Value                 float64\n",
       "Pack Price                      float64\n",
       "Unit Price                      float64\n",
       "Manufacturing Site               object\n",
       "First Line Designation           object\n",
       "Weight (Kilograms)               object\n",
       "Freight Cost (USD)               object\n",
       "Line Item Insurance (USD)       float64\n",
       "dtype: object"
      ]
     },
     "execution_count": 6,
     "metadata": {},
     "output_type": "execute_result"
    }
   ],
   "source": [
    "df.dtypes"
   ]
  },
  {
   "cell_type": "code",
   "execution_count": 7,
   "metadata": {
    "scrolled": true
   },
   "outputs": [
    {
     "data": {
      "text/plain": [
       "<matplotlib.axes._subplots.AxesSubplot at 0x1e0943cbb70>"
      ]
     },
     "execution_count": 7,
     "metadata": {},
     "output_type": "execute_result"
    },
    {
     "data": {
      "image/png": "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\n",
      "text/plain": [
       "<Figure size 720x504 with 1 Axes>"
      ]
     },
     "metadata": {},
     "output_type": "display_data"
    }
   ],
   "source": [
    "sns.set_style('darkgrid')\n",
    "country = df['Country'].value_counts().head(10)\n",
    "fig, ax = plt.subplots(figsize=(10,7))\n",
    "country.plot.bar(ax=ax)"
   ]
  },
  {
   "cell_type": "markdown",
   "metadata": {},
   "source": [
    "The plot above shows that the maximum rows / orders are for Africa."
   ]
  },
  {
   "cell_type": "code",
   "execution_count": 8,
   "metadata": {},
   "outputs": [
    {
     "data": {
      "text/plain": [
       "Air            6113\n",
       "Truck          2830\n",
       "Air Charter     650\n",
       "Ocean           371\n",
       "Name: Shipment Mode, dtype: int64"
      ]
     },
     "execution_count": 8,
     "metadata": {},
     "output_type": "execute_result"
    }
   ],
   "source": [
    "df['Shipment Mode'].value_counts()"
   ]
  },
  {
   "cell_type": "code",
   "execution_count": 9,
   "metadata": {},
   "outputs": [
    {
     "data": {
      "text/plain": [
       "From RDC       5404\n",
       "Direct Drop    4920\n",
       "Name: Fulfill Via, dtype: int64"
      ]
     },
     "execution_count": 9,
     "metadata": {},
     "output_type": "execute_result"
    }
   ],
   "source": [
    "\n",
    "df['Fulfill Via'].value_counts()"
   ]
  },
  {
   "cell_type": "code",
   "execution_count": 10,
   "metadata": {},
   "outputs": [],
   "source": [
    "# Convert Date fields to DateTime data type\n",
    "df['PQ First Sent to Client Date'] = pd.to_datetime(df[df['PQ First Sent to Client Date']!='NA']\\\n",
    "                                ['PQ First Sent to Client Date'],errors='coerce',format='%m/%d/%Y')\n",
    "\n",
    "df['PO Sent to Vendor Date'] = pd.to_datetime(df[df['PO Sent to Vendor Date']!='NA']\\\n",
    "                                ['PO Sent to Vendor Date'],errors='coerce',format='%m/%d/%Y')\n",
    "\n",
    "df['Scheduled Delivery Date'] = pd.to_datetime(df[df['Scheduled Delivery Date']!='NA']\\\n",
    "                                ['Scheduled Delivery Date'],errors='coerce',format='%d-%b-%y')\n",
    "\n",
    "df['Delivered to Client Date'] = pd.to_datetime(df[df['Delivered to Client Date']!='NA']\\\n",
    "                                ['Delivered to Client Date'],errors='coerce',format='%d-%b-%y')\n",
    "\n",
    "df['Delivery Recorded Date'] = pd.to_datetime(df['Delivery Recorded Date'],errors='coerce',format='%d-%b-%y')"
   ]
  },
  {
   "cell_type": "code",
   "execution_count": 11,
   "metadata": {},
   "outputs": [],
   "source": [
    "df['Delivery Period'] = df['Delivery Recorded Date'].copy()\n",
    "df['Delivery Period'] = df['Delivery Period'].apply(lambda x: x.strftime('%Y%m'))"
   ]
  },
  {
   "cell_type": "code",
   "execution_count": 12,
   "metadata": {},
   "outputs": [
    {
     "data": {
      "text/plain": [
       "0 days     5514\n",
       "-1 days     223\n",
       "-3 days     133\n",
       "-2 days     131\n",
       "17 days     117\n",
       "7 days      108\n",
       "-5 days     106\n",
       "-6 days     101\n",
       "13 days     100\n",
       "6 days       99\n",
       "8 days       97\n",
       "-4 days      97\n",
       "2 days       94\n",
       "-7 days      93\n",
       "31 days      81\n",
       "Name: Schedule v Actual, dtype: int64"
      ]
     },
     "execution_count": 12,
     "metadata": {},
     "output_type": "execute_result"
    }
   ],
   "source": [
    "\n",
    "# Create feature to be predicted by identifying difference between scheduled and actual delivery\n",
    "df['Schedule v Actual'] = df['Scheduled Delivery Date'] - df['Delivery Recorded Date']\n",
    "df['Schedule v Actual'].value_counts().head(15)"
   ]
  },
  {
   "cell_type": "code",
   "execution_count": 13,
   "metadata": {},
   "outputs": [],
   "source": [
    "# Transform Schedule v. Actual column into a categorical int value removing trailing 'days' from values\n",
    "df['Schedule v Actual'] = (df['Schedule v Actual'] / np.timedelta64(1, 'D')).astype('category')"
   ]
  },
  {
   "cell_type": "code",
   "execution_count": 14,
   "metadata": {},
   "outputs": [
    {
     "data": {
      "text/plain": [
       "10324"
      ]
     },
     "execution_count": 14,
     "metadata": {},
     "output_type": "execute_result"
    }
   ],
   "source": [
    "len(df['Scheduled Delivery Date'])"
   ]
  },
  {
   "cell_type": "code",
   "execution_count": 15,
   "metadata": {},
   "outputs": [],
   "source": [
    "# Set all entries with 'Weight Captured Separately' as Null\n",
    "df['Weight (Kilograms)'].replace('Weight Captured Separately',0,inplace=True)"
   ]
  },
  {
   "cell_type": "code",
   "execution_count": 16,
   "metadata": {},
   "outputs": [],
   "source": [
    "# Replace string values with zero\n",
    "df.loc[df['Weight (Kilograms)'].str.contains('See',na=False), 'Weight (Kilograms)'] = 0"
   ]
  },
  {
   "cell_type": "code",
   "execution_count": 17,
   "metadata": {},
   "outputs": [],
   "source": [
    "# Update previously transformed zero values with mean value of data\n",
    "df['Weight (Kilograms)'] = df['Weight (Kilograms)'].astype('int64')\n",
    "df['Weight (Kilograms)'].replace(0,df[df['Weight (Kilograms)']!=0].mean(),inplace=True)"
   ]
  },
  {
   "cell_type": "code",
   "execution_count": 18,
   "metadata": {},
   "outputs": [
    {
     "data": {
      "text/plain": [
       "Freight Included in Commodity Cost    1442\n",
       "Invoiced Separately                    239\n",
       "9736.1                                  36\n",
       "6147.18                                 27\n",
       "See DN-304 (ID#:10589)                  16\n",
       "7445.8                                  16\n",
       "13398.06                                16\n",
       "9341.49                                 15\n",
       "See ASN-31750 (ID#:19272)               14\n",
       "See ASN-32231 (ID#:13648)               14\n",
       "See ASN-28279 (ID#:13547)               13\n",
       "See DN-3015 (ID#:82554)                 12\n",
       "7329.83                                 12\n",
       "25231.96                                11\n",
       "1211.48                                 11\n",
       "Name: Freight Cost (USD), dtype: int64"
      ]
     },
     "execution_count": 18,
     "metadata": {},
     "output_type": "execute_result"
    }
   ],
   "source": [
    "df['Freight Cost (USD)'].value_counts().head(15)"
   ]
  },
  {
   "cell_type": "code",
   "execution_count": 19,
   "metadata": {},
   "outputs": [],
   "source": [
    "# Apply same transformations to freight cost feature\n",
    "df['Freight Cost (USD)'].replace('Freight Included in Commodity Cost',0,inplace=True)\n",
    "df['Freight Cost (USD)'].replace('Invoiced Separately',0,inplace=True)\n",
    "df.loc[df['Freight Cost (USD)'].str.contains('See',na=False), 'Freight Cost (USD)'] = 0"
   ]
  },
  {
   "cell_type": "code",
   "execution_count": 20,
   "metadata": {},
   "outputs": [],
   "source": [
    "df['Freight Cost (USD)'] = df['Freight Cost (USD)'].astype('float64')\n",
    "df['Freight Cost (USD)'].replace(0,df[df['Freight Cost (USD)']!=0].mean(),inplace=True)"
   ]
  },
  {
   "cell_type": "code",
   "execution_count": 21,
   "metadata": {},
   "outputs": [],
   "source": [
    "df['Line Item Insurance (USD)'].fillna(0,inplace=True)"
   ]
  },
  {
   "cell_type": "code",
   "execution_count": 22,
   "metadata": {},
   "outputs": [
    {
     "data": {
      "image/png": "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