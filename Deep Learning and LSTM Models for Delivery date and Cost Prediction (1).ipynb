{
 "cells": [
  {
   "cell_type": "markdown",
   "metadata": {},
   "source": [
    "# Deep Learning and LSTM for Supply Chain\n",
    "\n",
    "###  1) Deep Learning based delivery date prediction \n",
    "\n",
    "###  2) LSTM based Freight cost prediction"
   ]
  },
  {
   "cell_type": "markdown",
   "metadata": {},
   "source": [
    "**Description:**\n",
    "\n",
    "The objective of the project is to obtain the prediction of delivery date and freight cost based on the historic trend and attributes.The notebook showcases the exploratory data analysis and Deep learning model for delivery date prediction as well as LSTM model for freight cost prediction.\n",
    "\n",
    "The supply chain shipment data is available free of charge at the following links  https://www.ncdc.noaa.gov/cdo-web and https://www.usaid.gov/opengov/developer/datasets/SCMS_Delivery_History_Dataset_20150929.csv.\n",
    "\n",
    "**Methodology:**\n",
    "1. Loading required libraries\n",
    "2. Data loading\n",
    "3. Feature engineering and Exploratory Data analysis\n",
    "4. Deep Learning Model for Delivery Date Prediction\n",
    "5. LSTM based Freight Cost Prediction\n",
    "6. Result Discussion\n",
    "\n",
    "**Requirements:** This project requires **Python 3.6** and the following Python libraries installed:\n",
    "\n",
    "- [NumPy](http://www.numpy.org/)\n",
    "- [Pandas](http://pandas.pydata.org)\n",
    "- [matplotlib](http://matplotlib.org/)\n",
    "- [Seaborn](https://seaborn.pydata.org/)\n",
    "- [XGBoost](https://github.com/dmlc/xgboost)\n",
    "- [scikit-learn](http://scikit-learn.org/stable/)\n",
    "- [DateTime](https://docs.python.org/2/library/datetime.html)\n",
    "- [Keras](https://keras.io/)\n",
    "- [TensorFlow](https://www.tensorflow.org/)\n",
    "\n",
    "You will also need to have software installed to run and execute a [Jupyter Notebook](http://ipython.org/notebook.html)\n",
    "\n",
    "If you do not have Python installed yet, it is highly recommended that you install the [Anaconda](http://continuum.io/downloads) distribution of Python, which already has the above packages and more included. \n",
    "\n"
   ]
  },
  {
   "cell_type": "code",
   "execution_count": 1,
   "metadata": {},
   "outputs": [],
   "source": [
    "import pandas as pd\n",
    "import numpy as np \n",
    "import matplotlib.pyplot as plt\n",
    "import os\n",
    "import sklearn\n",
    "import datetime\n",
    "import seaborn as sns\n",
    "%matplotlib inline"
   ]
  },
  {
   "cell_type": "code",
   "execution_count": 2,
   "metadata": {},
   "outputs": [],
   "source": [
    "import tensorflow as tf"
   ]
  },
  {
   "cell_type": "markdown",
   "metadata": {},
   "source": [
    "## Data Read into dataframe df"
   ]
  },
  {
   "cell_type": "code",
   "execution_count": 3,
   "metadata": {},
   "outputs": [],
   "source": [
    "def read_csv(filepath):\n",
    "     if os.path.splitext(filepath)[1] != '.csv':\n",
    "          return  # or whatever\n",
    "     seps = [',', ';', '\\t']                    # ',' is default\n",
    "     encodings = [None, 'utf-8', 'ISO-8859-1']  # None is default\n",
    "     for sep in seps:\n",
    "         for encoding in encodings:\n",
    "              try:\n",
    "                  return pd.read_csv(filepath, encoding=encoding, sep=sep)\n",
    "              except Exception:  # should really be more specific \n",
    "                  pass\n",
    "     raise ValueError(\"{!r} is has no encoding in {} or seperator in {}\"\n",
    "                      .format(filepath, encodings, seps))"
   ]
  },
  {
   "cell_type": "code",
   "execution_count": 4,
   "metadata": {},
   "outputs": [],
   "source": [
    "df = read_csv('C:/Users/vasu.kumar/SCMS_Delivery_History_Dataset.csv')"
   ]
  },
  {
   "cell_type": "markdown",
   "metadata": {},
   "source": [
    "## Exploratory Data Analysis"
   ]
  },
  {
   "cell_type": "code",
   "execution_count": 5,
   "metadata": {
    "scrolled": true
   },
   "outputs": [
    {
     "name": "stdout",
     "output_type": "stream",
     "text": [
      "<class 'pandas.core.frame.DataFrame'>\n",
      "RangeIndex: 10324 entries, 0 to 10323\n",
      "Data columns (total 33 columns):\n",
      "ID                              10324 non-null int64\n",
      "Project Code                    10324 non-null object\n",
      "PQ #                            10324 non-null object\n",
      "PO / SO #                       10324 non-null object\n",
      "ASN/DN #                        10324 non-null object\n",
      "Country                         10324 non-null object\n",
      "Managed By                      10324 non-null object\n",
      "Fulfill Via                     10324 non-null object\n",
      "Vendor INCO Term                10324 non-null object\n",
      "Shipment Mode                   9964 non-null object\n",
      "PQ First Sent to Client Date    10324 non-null object\n",
      "PO Sent to Vendor Date          10324 non-null object\n",
      "Scheduled Delivery Date         10324 non-null object\n",
      "Delivered to Client Date        10324 non-null object\n",
      "Delivery Recorded Date          10324 non-null object\n",
      "Product Group                   10324 non-null object\n",
      "Sub Classification              10324 non-null object\n",
      "Vendor                          10324 non-null object\n",
      "Item Description                10324 non-null object\n",
      "Molecule/Test Type              10324 non-null object\n",
      "Brand                           10324 non-null object\n",
      "Dosage                          8588 non-null object\n",
      "Dosage Form                     10324 non-null object\n",
      "Unit of Measure (Per Pack)      10324 non-null int64\n",
      "Line Item Quantity              10324 non-null int64\n",
      "Line Item Value                 10324 non-null float64\n",
      "Pack Price                      10324 non-null float64\n",
      "Unit Price                      10324 non-null float64\n",
      "Manufacturing Site              10324 non-null object\n",
      "First Line Designation          10324 non-null object\n",
      "Weight (Kilograms)              10324 non-null object\n",
      "Freight Cost (USD)              10324 non-null object\n",
      "Line Item Insurance (USD)       10037 non-null float64\n",
      "dtypes: float64(4), int64(3), object(26)\n",
      "memory usage: 2.6+ MB\n"
     ]
    }
   ],
   "source": [
    "df.info()"
   ]
  },
  {
   "cell_type": "code",
   "execution_count": 6,
   "metadata": {
    "scrolled": true
   },
   "outputs": [
    {
     "data": {
      "text/plain": [
       "ID                                int64\n",
       "Project Code                     object\n",
       "PQ #                             object\n",
       "PO / SO #                        object\n",
       "ASN/DN #                         object\n",
       "Country                          object\n",
       "Managed By                       object\n",
       "Fulfill Via                      object\n",
       "Vendor INCO Term                 object\n",
       "Shipment Mode                    object\n",
       "PQ First Sent to Client Date     object\n",
       "PO Sent to Vendor Date           object\n",
       "Scheduled Delivery Date          object\n",
       "Delivered to Client Date         object\n",
       "Delivery Recorded Date           object\n",
       "Product Group                    object\n",
       "Sub Classification               object\n",
       "Vendor                           object\n",
       "Item Description                 object\n",
       "Molecule/Test Type               object\n",
       "Brand                            object\n",
       "Dosage                           object\n",
       "Dosage Form                      object\n",
       "Unit of Measure (Per Pack)        int64\n",
       "Line Item Quantity                int64\n",
       "Line Item Value                 float64\n",
       "Pack Price                      float64\n",
       "Unit Price                      float64\n",
       "Manufacturing Site               object\n",
       "First Line Designation           object\n",
       "Weight (Kilograms)               object\n",
       "Freight Cost (USD)               object\n",
       "Line Item Insurance (USD)       float64\n",
       "dtype: object"
      ]
     },
     "execution_count": 6,
     "metadata": {},
     "output_type": "execute_result"
    }
   ],
   "source": [
    "df.dtypes"
   ]
  },
  {
   "cell_type": "code",
   "execution_count": 7,
   "metadata": {
    "scrolled": true
   },
   "outputs": [
    {
     "data": {
      "text/plain": [
       "<matplotlib.axes._subplots.AxesSubplot at 0x1e0943cbb70>"
      ]
     },
     "execution_count": 7,
     "metadata": {},
     "output_type": "execute_result"
    },
    {
     "data": {
      "image/png": "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\n",
      "text/plain": [
       "<Figure size 720x504 with 1 Axes>"
      ]
     },
     "metadata": {},
     "output_type": "display_data"
    }
   ],
   "source": [
    "sns.set_style('darkgrid')\n",
    "country = df['Country'].value_counts().head(10)\n",
    "fig, ax = plt.subplots(figsize=(10,7))\n",
    "country.plot.bar(ax=ax)"
   ]
  },
  {
   "cell_type": "markdown",
   "metadata": {},
   "source": [
    "The plot above shows that the maximum rows / orders are for Africa."
   ]
  },
  {
   "cell_type": "code",
   "execution_count": 8,
   "metadata": {},
   "outputs": [
    {
     "data": {
      "text/plain": [
       "Air            6113\n",
       "Truck          2830\n",
       "Air Charter     650\n",
       "Ocean           371\n",
       "Name: Shipment Mode, dtype: int64"
      ]
     },
     "execution_count": 8,
     "metadata": {},
     "output_type": "execute_result"
    }
   ],
   "source": [
    "df['Shipment Mode'].value_counts()"
   ]
  },
  {
   "cell_type": "code",
   "execution_count": 9,
   "metadata": {},
   "outputs": [
    {
     "data": {
      "text/plain": [
       "From RDC       5404\n",
       "Direct Drop    4920\n",
       "Name: Fulfill Via, dtype: int64"
      ]
     },
     "execution_count": 9,
     "metadata": {},
     "output_type": "execute_result"
    }
   ],
   "source": [
    "\n",
    "df['Fulfill Via'].value_counts()"
   ]
  },
  {
   "cell_type": "code",
   "execution_count": 10,
   "metadata": {},
   "outputs": [],
   "source": [
    "# Convert Date fields to DateTime data type\n",
    "df['PQ First Sent to Client Date'] = pd.to_datetime(df[df['PQ First Sent to Client Date']!='NA']\\\n",
    "                                ['PQ First Sent to Client Date'],errors='coerce',format='%m/%d/%Y')\n",
    "\n",
    "df['PO Sent to Vendor Date'] = pd.to_datetime(df[df['PO Sent to Vendor Date']!='NA']\\\n",
    "                                ['PO Sent to Vendor Date'],errors='coerce',format='%m/%d/%Y')\n",
    "\n",
    "df['Scheduled Delivery Date'] = pd.to_datetime(df[df['Scheduled Delivery Date']!='NA']\\\n",
    "                                ['Scheduled Delivery Date'],errors='coerce',format='%d-%b-%y')\n",
    "\n",
    "df['Delivered to Client Date'] = pd.to_datetime(df[df['Delivered to Client Date']!='NA']\\\n",
    "                                ['Delivered to Client Date'],errors='coerce',format='%d-%b-%y')\n",
    "\n",
    "df['Delivery Recorded Date'] = pd.to_datetime(df['Delivery Recorded Date'],errors='coerce',format='%d-%b-%y')"
   ]
  },
  {
   "cell_type": "code",
   "execution_count": 11,
   "metadata": {},
   "outputs": [],
   "source": [
    "df['Delivery Period'] = df['Delivery Recorded Date'].copy()\n",
    "df['Delivery Period'] = df['Delivery Period'].apply(lambda x: x.strftime('%Y%m'))"
   ]
  },
  {
   "cell_type": "code",
   "execution_count": 12,
   "metadata": {},
   "outputs": [
    {
     "data": {
      "text/plain": [
       "0 days     5514\n",
       "-1 days     223\n",
       "-3 days     133\n",
       "-2 days     131\n",
       "17 days     117\n",
       "7 days      108\n",
       "-5 days     106\n",
       "-6 days     101\n",
       "13 days     100\n",
       "6 days       99\n",
       "8 days       97\n",
       "-4 days      97\n",
       "2 days       94\n",
       "-7 days      93\n",
       "31 days      81\n",
       "Name: Schedule v Actual, dtype: int64"
      ]
     },
     "execution_count": 12,
     "metadata": {},
     "output_type": "execute_result"
    }
   ],
   "source": [
    "\n",
    "# Create feature to be predicted by identifying difference between scheduled and actual delivery\n",
    "df['Schedule v Actual'] = df['Scheduled Delivery Date'] - df['Delivery Recorded Date']\n",
    "df['Schedule v Actual'].value_counts().head(15)"
   ]
  },
  {
   "cell_type": "code",
   "execution_count": 13,
   "metadata": {},
   "outputs": [],
   "source": [
    "# Transform Schedule v. Actual column into a categorical int value removing trailing 'days' from values\n",
    "df['Schedule v Actual'] = (df['Schedule v Actual'] / np.timedelta64(1, 'D')).astype('category')"
   ]
  },
  {
   "cell_type": "code",
   "execution_count": 14,
   "metadata": {},
   "outputs": [
    {
     "data": {
      "text/plain": [
       "10324"
      ]
     },
     "execution_count": 14,
     "metadata": {},
     "output_type": "execute_result"
    }
   ],
   "source": [
    "len(df['Scheduled Delivery Date'])"
   ]
  },
  {
   "cell_type": "code",
   "execution_count": 15,
   "metadata": {},
   "outputs": [],
   "source": [
    "# Set all entries with 'Weight Captured Separately' as Null\n",
    "df['Weight (Kilograms)'].replace('Weight Captured Separately',0,inplace=True)"
   ]
  },
  {
   "cell_type": "code",
   "execution_count": 16,
   "metadata": {},
   "outputs": [],
   "source": [
    "# Replace string values with zero\n",
    "df.loc[df['Weight (Kilograms)'].str.contains('See',na=False), 'Weight (Kilograms)'] = 0"
   ]
  },
  {
   "cell_type": "code",
   "execution_count": 17,
   "metadata": {},
   "outputs": [],
   "source": [
    "# Update previously transformed zero values with mean value of data\n",
    "df['Weight (Kilograms)'] = df['Weight (Kilograms)'].astype('int64')\n",
    "df['Weight (Kilograms)'].replace(0,df[df['Weight (Kilograms)']!=0].mean(),inplace=True)"
   ]
  },
  {
   "cell_type": "code",
   "execution_count": 18,
   "metadata": {},
   "outputs": [
    {
     "data": {
      "text/plain": [
       "Freight Included in Commodity Cost    1442\n",
       "Invoiced Separately                    239\n",
       "9736.1                                  36\n",
       "6147.18                                 27\n",
       "See DN-304 (ID#:10589)                  16\n",
       "7445.8                                  16\n",
       "13398.06                                16\n",
       "9341.49                                 15\n",
       "See ASN-31750 (ID#:19272)               14\n",
       "See ASN-32231 (ID#:13648)               14\n",
       "See ASN-28279 (ID#:13547)               13\n",
       "See DN-3015 (ID#:82554)                 12\n",
       "7329.83                                 12\n",
       "25231.96                                11\n",
       "1211.48                                 11\n",
       "Name: Freight Cost (USD), dtype: int64"
      ]
     },
     "execution_count": 18,
     "metadata": {},
     "output_type": "execute_result"
    }
   ],
   "source": [
    "df['Freight Cost (USD)'].value_counts().head(15)"
   ]
  },
  {
   "cell_type": "code",
   "execution_count": 19,
   "metadata": {},
   "outputs": [],
   "source": [
    "# Apply same transformations to freight cost feature\n",
    "df['Freight Cost (USD)'].replace('Freight Included in Commodity Cost',0,inplace=True)\n",
    "df['Freight Cost (USD)'].replace('Invoiced Separately',0,inplace=True)\n",
    "df.loc[df['Freight Cost (USD)'].str.contains('See',na=False), 'Freight Cost (USD)'] = 0"
   ]
  },
  {
   "cell_type": "code",
   "execution_count": 20,
   "metadata": {},
   "outputs": [],
   "source": [
    "df['Freight Cost (USD)'] = df['Freight Cost (USD)'].astype('float64')\n",
    "df['Freight Cost (USD)'].replace(0,df[df['Freight Cost (USD)']!=0].mean(),inplace=True)"
   ]
  },
  {
   "cell_type": "code",
   "execution_count": 21,
   "metadata": {},
   "outputs": [],
   "source": [
    "df['Line Item Insurance (USD)'].fillna(0,inplace=True)"
   ]
  },
  {
   "cell_type": "code",
   "execution_count": 22,
   "metadata": {},
   "outputs": [
    {
     "data": {
      "image/png": "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\n",
      "text/plain": [
       "<Figure size 720x504 with 1 Axes>"
      ]
     },
     "metadata": {},
     "output_type": "display_data"
    }
   ],
   "source": [
    "fig, ax = plt.subplots(figsize=(10,7))\n",
    "sns.boxplot(df['Shipment Mode'],df['Freight Cost (USD)'],ax=ax);"
   ]
  },
  {
   "cell_type": "code",
   "execution_count": 23,
   "metadata": {},
   "outputs": [
    {
     "data": {
      "text/plain": [
       "<matplotlib.axes._subplots.AxesSubplot at 0x1e094b40dd8>"
      ]
     },
     "execution_count": 23,
     "metadata": {},
     "output_type": "execute_result"
    },
    {
     "data": {
      "image/png": "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